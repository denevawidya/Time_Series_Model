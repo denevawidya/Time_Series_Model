{
  "nbformat": 4,
  "nbformat_minor": 0,
  "metadata": {
    "colab": {
      "name": "Proyek_Time_Series_Deneva_W.ipynb",
      "provenance": [],
      "collapsed_sections": []
    },
    "kernelspec": {
      "name": "python3",
      "display_name": "Python 3"
    },
    "language_info": {
      "name": "python"
    }
  },
  "cells": [
    {
      "cell_type": "markdown",
      "metadata": {
        "id": "4MBar3ps-LeX"
      },
      "source": [
        "# **Time Series Project**\n"
      ]
    },
    {
      "cell_type": "code",
      "metadata": {
        "id": "vCYvjBursbDc"
      },
      "source": [
        "import warnings\n",
        "warnings.filterwarnings('ignore')\n",
        "\n",
        "import pandas as pd\n",
        "import numpy as np\n",
        "import matplotlib.pyplot as plt\n",
        "import seaborn as sns\n",
        "import scipy.stats"
      ],
      "execution_count": 1,
      "outputs": []
    },
    {
      "cell_type": "markdown",
      "metadata": {
        "id": "3cW_PqmoxbwM"
      },
      "source": [
        "## Load Data"
      ]
    },
    {
      "cell_type": "markdown",
      "metadata": {
        "id": "bRDmL2Vta5Sw"
      },
      "source": [
        "Dataset = Monthly average temperature around Aomori City, Aomori Prefecture, Japan from January 1882 to December 2019."
      ]
    },
    {
      "cell_type": "code",
      "metadata": {
        "colab": {
          "base_uri": "https://localhost:8080/",
          "height": 419
        },
        "id": "gIZr3BKmvfYy",
        "outputId": "5fd249fa-daaf-4705-f98d-1896cf257335"
      },
      "source": [
        "#importing data\n",
        "df = pd.read_csv('monthly_temperature_aomori_city.csv')\n",
        "df"
      ],
      "execution_count": 2,
      "outputs": [
        {
          "output_type": "execute_result",
          "data": {
            "text/html": [
              "<div>\n",
              "<style scoped>\n",
              "    .dataframe tbody tr th:only-of-type {\n",
              "        vertical-align: middle;\n",
              "    }\n",
              "\n",
              "    .dataframe tbody tr th {\n",
              "        vertical-align: top;\n",
              "    }\n",
              "\n",
              "    .dataframe thead th {\n",
              "        text-align: right;\n",
              "    }\n",
              "</style>\n",
              "<table border=\"1\" class=\"dataframe\">\n",
              "  <thead>\n",
              "    <tr style=\"text-align: right;\">\n",
              "      <th></th>\n",
              "      <th>year</th>\n",
              "      <th>month</th>\n",
              "      <th>temperature</th>\n",
              "    </tr>\n",
              "  </thead>\n",
              "  <tbody>\n",
              "    <tr>\n",
              "      <th>0</th>\n",
              "      <td>1882</td>\n",
              "      <td>1</td>\n",
              "      <td>-0.4</td>\n",
              "    </tr>\n",
              "    <tr>\n",
              "      <th>1</th>\n",
              "      <td>1882</td>\n",
              "      <td>2</td>\n",
              "      <td>-0.6</td>\n",
              "    </tr>\n",
              "    <tr>\n",
              "      <th>2</th>\n",
              "      <td>1882</td>\n",
              "      <td>3</td>\n",
              "      <td>1.2</td>\n",
              "    </tr>\n",
              "    <tr>\n",
              "      <th>3</th>\n",
              "      <td>1882</td>\n",
              "      <td>4</td>\n",
              "      <td>8.9</td>\n",
              "    </tr>\n",
              "    <tr>\n",
              "      <th>4</th>\n",
              "      <td>1882</td>\n",
              "      <td>5</td>\n",
              "      <td>12.1</td>\n",
              "    </tr>\n",
              "    <tr>\n",
              "      <th>...</th>\n",
              "      <td>...</td>\n",
              "      <td>...</td>\n",
              "      <td>...</td>\n",
              "    </tr>\n",
              "    <tr>\n",
              "      <th>1663</th>\n",
              "      <td>2020</td>\n",
              "      <td>8</td>\n",
              "      <td>25.2</td>\n",
              "    </tr>\n",
              "    <tr>\n",
              "      <th>1664</th>\n",
              "      <td>2020</td>\n",
              "      <td>9</td>\n",
              "      <td>21.3</td>\n",
              "    </tr>\n",
              "    <tr>\n",
              "      <th>1665</th>\n",
              "      <td>2020</td>\n",
              "      <td>10</td>\n",
              "      <td>13.7</td>\n",
              "    </tr>\n",
              "    <tr>\n",
              "      <th>1666</th>\n",
              "      <td>2020</td>\n",
              "      <td>11</td>\n",
              "      <td>8.0</td>\n",
              "    </tr>\n",
              "    <tr>\n",
              "      <th>1667</th>\n",
              "      <td>2020</td>\n",
              "      <td>12</td>\n",
              "      <td>0.6</td>\n",
              "    </tr>\n",
              "  </tbody>\n",
              "</table>\n",
              "<p>1668 rows × 3 columns</p>\n",
              "</div>"
            ],
            "text/plain": [
              "      year  month  temperature\n",
              "0     1882      1         -0.4\n",
              "1     1882      2         -0.6\n",
              "2     1882      3          1.2\n",
              "3     1882      4          8.9\n",
              "4     1882      5         12.1\n",
              "...    ...    ...          ...\n",
              "1663  2020      8         25.2\n",
              "1664  2020      9         21.3\n",
              "1665  2020     10         13.7\n",
              "1666  2020     11          8.0\n",
              "1667  2020     12          0.6\n",
              "\n",
              "[1668 rows x 3 columns]"
            ]
          },
          "metadata": {
            "tags": []
          },
          "execution_count": 2
        }
      ]
    },
    {
      "cell_type": "code",
      "metadata": {
        "colab": {
          "base_uri": "https://localhost:8080/"
        },
        "id": "Au8hNOdDvnqU",
        "outputId": "93bfe79c-7ee2-408a-bcb6-2160dd376168"
      },
      "source": [
        "df.columns"
      ],
      "execution_count": 3,
      "outputs": [
        {
          "output_type": "execute_result",
          "data": {
            "text/plain": [
              "Index(['year', 'month', 'temperature'], dtype='object')"
            ]
          },
          "metadata": {
            "tags": []
          },
          "execution_count": 3
        }
      ]
    },
    {
      "cell_type": "code",
      "metadata": {
        "colab": {
          "base_uri": "https://localhost:8080/"
        },
        "id": "HtA_ye-BvrAP",
        "outputId": "2d5b7da7-ba4d-4676-bc17-35fbdbe3f67c"
      },
      "source": [
        "df.shape"
      ],
      "execution_count": 4,
      "outputs": [
        {
          "output_type": "execute_result",
          "data": {
            "text/plain": [
              "(1668, 3)"
            ]
          },
          "metadata": {
            "tags": []
          },
          "execution_count": 4
        }
      ]
    },
    {
      "cell_type": "code",
      "metadata": {
        "colab": {
          "base_uri": "https://localhost:8080/"
        },
        "id": "jt_7jIB8vtfa",
        "outputId": "69771cf7-38e1-42da-c7fe-fbb69bde68d0"
      },
      "source": [
        "df.info()"
      ],
      "execution_count": 5,
      "outputs": [
        {
          "output_type": "stream",
          "text": [
            "<class 'pandas.core.frame.DataFrame'>\n",
            "RangeIndex: 1668 entries, 0 to 1667\n",
            "Data columns (total 3 columns):\n",
            " #   Column       Non-Null Count  Dtype  \n",
            "---  ------       --------------  -----  \n",
            " 0   year         1668 non-null   int64  \n",
            " 1   month        1668 non-null   int64  \n",
            " 2   temperature  1668 non-null   float64\n",
            "dtypes: float64(1), int64(2)\n",
            "memory usage: 39.2 KB\n"
          ],
          "name": "stdout"
        }
      ]
    },
    {
      "cell_type": "markdown",
      "metadata": {
        "id": "rqcCB96FxYM_"
      },
      "source": [
        "## Data Cleansing"
      ]
    },
    {
      "cell_type": "code",
      "metadata": {
        "colab": {
          "base_uri": "https://localhost:8080/"
        },
        "id": "liCzkgV0l1kW",
        "outputId": "d4d91fff-e103-40c5-89ce-6d260fdd1efa"
      },
      "source": [
        "df.isna().sum()"
      ],
      "execution_count": 6,
      "outputs": [
        {
          "output_type": "execute_result",
          "data": {
            "text/plain": [
              "year           0\n",
              "month          0\n",
              "temperature    0\n",
              "dtype: int64"
            ]
          },
          "metadata": {
            "tags": []
          },
          "execution_count": 6
        }
      ]
    },
    {
      "cell_type": "code",
      "metadata": {
        "colab": {
          "base_uri": "https://localhost:8080/",
          "height": 419
        },
        "id": "VQW8j9enUgvA",
        "outputId": "7f9d2a6f-2e42-4e3d-8ce2-cb94d4cedfbc"
      },
      "source": [
        "df = df[['year','temperature']]\n",
        "df"
      ],
      "execution_count": 7,
      "outputs": [
        {
          "output_type": "execute_result",
          "data": {
            "text/html": [
              "<div>\n",
              "<style scoped>\n",
              "    .dataframe tbody tr th:only-of-type {\n",
              "        vertical-align: middle;\n",
              "    }\n",
              "\n",
              "    .dataframe tbody tr th {\n",
              "        vertical-align: top;\n",
              "    }\n",
              "\n",
              "    .dataframe thead th {\n",
              "        text-align: right;\n",
              "    }\n",
              "</style>\n",
              "<table border=\"1\" class=\"dataframe\">\n",
              "  <thead>\n",
              "    <tr style=\"text-align: right;\">\n",
              "      <th></th>\n",
              "      <th>year</th>\n",
              "      <th>temperature</th>\n",
              "    </tr>\n",
              "  </thead>\n",
              "  <tbody>\n",
              "    <tr>\n",
              "      <th>0</th>\n",
              "      <td>1882</td>\n",
              "      <td>-0.4</td>\n",
              "    </tr>\n",
              "    <tr>\n",
              "      <th>1</th>\n",
              "      <td>1882</td>\n",
              "      <td>-0.6</td>\n",
              "    </tr>\n",
              "    <tr>\n",
              "      <th>2</th>\n",
              "      <td>1882</td>\n",
              "      <td>1.2</td>\n",
              "    </tr>\n",
              "    <tr>\n",
              "      <th>3</th>\n",
              "      <td>1882</td>\n",
              "      <td>8.9</td>\n",
              "    </tr>\n",
              "    <tr>\n",
              "      <th>4</th>\n",
              "      <td>1882</td>\n",
              "      <td>12.1</td>\n",
              "    </tr>\n",
              "    <tr>\n",
              "      <th>...</th>\n",
              "      <td>...</td>\n",
              "      <td>...</td>\n",
              "    </tr>\n",
              "    <tr>\n",
              "      <th>1663</th>\n",
              "      <td>2020</td>\n",
              "      <td>25.2</td>\n",
              "    </tr>\n",
              "    <tr>\n",
              "      <th>1664</th>\n",
              "      <td>2020</td>\n",
              "      <td>21.3</td>\n",
              "    </tr>\n",
              "    <tr>\n",
              "      <th>1665</th>\n",
              "      <td>2020</td>\n",
              "      <td>13.7</td>\n",
              "    </tr>\n",
              "    <tr>\n",
              "      <th>1666</th>\n",
              "      <td>2020</td>\n",
              "      <td>8.0</td>\n",
              "    </tr>\n",
              "    <tr>\n",
              "      <th>1667</th>\n",
              "      <td>2020</td>\n",
              "      <td>0.6</td>\n",
              "    </tr>\n",
              "  </tbody>\n",
              "</table>\n",
              "<p>1668 rows × 2 columns</p>\n",
              "</div>"
            ],
            "text/plain": [
              "      year  temperature\n",
              "0     1882         -0.4\n",
              "1     1882         -0.6\n",
              "2     1882          1.2\n",
              "3     1882          8.9\n",
              "4     1882         12.1\n",
              "...    ...          ...\n",
              "1663  2020         25.2\n",
              "1664  2020         21.3\n",
              "1665  2020         13.7\n",
              "1666  2020          8.0\n",
              "1667  2020          0.6\n",
              "\n",
              "[1668 rows x 2 columns]"
            ]
          },
          "metadata": {
            "tags": []
          },
          "execution_count": 7
        }
      ]
    },
    {
      "cell_type": "markdown",
      "metadata": {
        "id": "AVLjuYPJVm_e"
      },
      "source": [
        "## Split Data"
      ]
    },
    {
      "cell_type": "code",
      "metadata": {
        "id": "rRBARVE_VNZo"
      },
      "source": [
        "import tensorflow as tf\n",
        "\n",
        "def windowed_dataset(series, window_size, batch_size, shuffle_buffer):\n",
        "    series = tf.expand_dims(series, axis=-1)\n",
        "    ds = tf.data.Dataset.from_tensor_slices(series)\n",
        "    ds = ds.window(window_size + 1, shift=1, drop_remainder=True)\n",
        "    ds = ds.flat_map(lambda w: w.batch(window_size + 1))\n",
        "    ds = ds.shuffle(shuffle_buffer)\n",
        "    ds = ds.map(lambda w: (w[:-1], w[-1:]))\n",
        "    return ds.batch(batch_size).prefetch(1)"
      ],
      "execution_count": 8,
      "outputs": []
    },
    {
      "cell_type": "code",
      "metadata": {
        "id": "QHVdDZGMZ8Qa"
      },
      "source": [
        "# get data values\n",
        "year = df['year'].values\n",
        "temp = df['temperature'].values"
      ],
      "execution_count": 9,
      "outputs": []
    },
    {
      "cell_type": "code",
      "metadata": {
        "colab": {
          "base_uri": "https://localhost:8080/"
        },
        "id": "TXKX2alyVQ-s",
        "outputId": "2d303182-ccc7-49c0-fe08-b9bcd0fffb82"
      },
      "source": [
        "from sklearn.model_selection import train_test_split\n",
        "\n",
        "x_train, x_test, y_train, y_test = train_test_split(temp, year, test_size = 0.2, random_state = 0 , shuffle=False)\n",
        "print(len(x_train), len(x_test))"
      ],
      "execution_count": 10,
      "outputs": [
        {
          "output_type": "stream",
          "text": [
            "1334 334\n"
          ],
          "name": "stdout"
        }
      ]
    },
    {
      "cell_type": "code",
      "metadata": {
        "colab": {
          "base_uri": "https://localhost:8080/",
          "height": 196
        },
        "id": "cKZKnOT0LqP4",
        "outputId": "488f026e-f660-4927-a512-f793dad95298"
      },
      "source": [
        "plt.figure(figsize=(30,5))\n",
        "\n",
        "plt.plot(year, temp)\n",
        "plt.title('Temperature average',\n",
        "          fontsize=20);"
      ],
      "execution_count": 11,
      "outputs": [
        {
          "output_type": "display_data",
          "data": {
            "image/png": "[encoded data removed]",
            "text/plain": [
              "<Figure size 2160x360 with 1 Axes>"
            ]
          },
          "metadata": {
            "tags": [],
            "needs_background": "light"
          }
        }
      ]
    },
    {
      "cell_type": "markdown",
      "metadata": {
        "id": "LbOlvq6iAtlT"
      },
      "source": [
        "## Modelling"
      ]
    },
    {
      "cell_type": "code",
      "metadata": {
        "id": "2jNrrGmiPrpm"
      },
      "source": [
        "from keras.layers import Dense, LSTM\n",
        "\n",
        "data_x_train = windowed_dataset(x_train, window_size=60, batch_size=100, shuffle_buffer=5000)\n",
        "data_x_test = windowed_dataset(x_test, window_size=60, batch_size=100, shuffle_buffer=5000)\n",
        "\n",
        "model = tf.keras.models.Sequential([\n",
        "  tf.keras.layers.Conv1D(filters=32, kernel_size=5,\n",
        "                      strides=1, padding=\"causal\",\n",
        "                      activation=\"relu\",\n",
        "                      input_shape=[None, 1]),\n",
        "  tf.keras.layers.LSTM(64, return_sequences=True),\n",
        "  tf.keras.layers.LSTM(64, return_sequences=True),\n",
        "  tf.keras.layers.Dense(30, activation=\"relu\"),\n",
        "  tf.keras.layers.Dense(10, activation=\"relu\"),\n",
        "  tf.keras.layers.Dense(1),\n",
        "  tf.keras.layers.Lambda(lambda x: x * 400)\n",
        "])\n",
        "\n",
        "lr_schedule = tf.keras.callbacks.LearningRateScheduler(\n",
        "    lambda epoch: 1e-8 * 10**(epoch / 20))\n",
        "optimizer = tf.keras.optimizers.SGD(lr=1e-8, momentum=0.9)\n",
        "model.compile(loss=tf.keras.losses.Huber(),\n",
        "              optimizer=optimizer,\n",
        "              metrics=[\"mae\"])"
      ],
      "execution_count": 12,
      "outputs": []
    },
    {
      "cell_type": "code",
      "metadata": {
        "colab": {
          "base_uri": "https://localhost:8080/"
        },
        "id": "f7SJwZkvWT18",
        "outputId": "cecd6b12-3ce3-46d9-b255-e122e54d2ce2"
      },
      "source": [
        "max = df['temperature'].max()\n",
        "print(max)"
      ],
      "execution_count": 13,
      "outputs": [
        {
          "output_type": "stream",
          "text": [
            "26.0\n"
          ],
          "name": "stdout"
        }
      ]
    },
    {
      "cell_type": "code",
      "metadata": {
        "colab": {
          "base_uri": "https://localhost:8080/"
        },
        "id": "N2J-44_oWWS1",
        "outputId": "9ef22ddd-2315-4532-9a37-a747e19a5eac"
      },
      "source": [
        "min = df['temperature'].min()\n",
        "print(min)"
      ],
      "execution_count": 14,
      "outputs": [
        {
          "output_type": "stream",
          "text": [
            "-5.7\n"
          ],
          "name": "stdout"
        }
      ]
    },
    {
      "cell_type": "code",
      "metadata": {
        "colab": {
          "base_uri": "https://localhost:8080/"
        },
        "id": "WOvSkz7JWdyU",
        "outputId": "dea98b8f-7a40-470e-a7cc-b5fd041e918a"
      },
      "source": [
        "x = (26.0 - -5.7) * (10 / 100)\n",
        "print(x)"
      ],
      "execution_count": 15,
      "outputs": [
        {
          "output_type": "stream",
          "text": [
            "3.17\n"
          ],
          "name": "stdout"
        }
      ]
    },
    {
      "cell_type": "code",
      "metadata": {
        "id": "xmTkeTGEVx3r"
      },
      "source": [
        "# callback\n",
        "class myCallback(tf.keras.callbacks.Callback):\n",
        "  def on_epoch_end(self, epoch, logs={}):\n",
        "    if(logs.get('mae')< x):\n",
        "      self.model.stop_training = True\n",
        "      print(\"\\nMAE of the model < 10% of data scale\")\n",
        "callbacks = myCallback()"
      ],
      "execution_count": 16,
      "outputs": []
    },
    {
      "cell_type": "code",
      "metadata": {
        "colab": {
          "base_uri": "https://localhost:8080/"
        },
        "id": "DjAZw-amV64r",
        "outputId": "2902d17e-d879-4772-e1ad-458004d742dc"
      },
      "source": [
        "history = model.fit(data_x_train ,epochs=100, validation_data=data_x_test, callbacks=[callbacks])"
      ],
      "execution_count": 17,
      "outputs": [
        {
          "output_type": "stream",
          "text": [
            "Epoch 1/100\n",
            "13/13 [==============================] - 5s 159ms/step - loss: 13.5854 - mae: 14.0782 - val_loss: 14.7457 - val_mae: 15.2386\n",
            "Epoch 2/100\n",
            "13/13 [==============================] - 1s 96ms/step - loss: 13.3794 - mae: 13.8721 - val_loss: 14.4890 - val_mae: 14.9812\n",
            "Epoch 3/100\n",
            "13/13 [==============================] - 1s 98ms/step - loss: 13.1167 - mae: 13.6091 - val_loss: 14.2111 - val_mae: 14.7035\n",
            "Epoch 4/100\n",
            "13/13 [==============================] - 1s 97ms/step - loss: 12.8443 - mae: 13.3363 - val_loss: 13.9426 - val_mae: 14.4351\n",
            "Epoch 5/100\n",
            "13/13 [==============================] - 1s 95ms/step - loss: 12.5802 - mae: 13.0719 - val_loss: 13.6814 - val_mae: 14.1741\n",
            "Epoch 6/100\n",
            "13/13 [==============================] - 1s 97ms/step - loss: 12.3245 - mae: 12.8162 - val_loss: 13.4254 - val_mae: 13.9179\n",
            "Epoch 7/100\n",
            "13/13 [==============================] - 1s 96ms/step - loss: 12.0751 - mae: 12.5664 - val_loss: 13.1748 - val_mae: 13.6670\n",
            "Epoch 8/100\n",
            "13/13 [==============================] - 1s 97ms/step - loss: 11.8326 - mae: 12.3240 - val_loss: 12.9308 - val_mae: 13.4228\n",
            "Epoch 9/100\n",
            "13/13 [==============================] - 1s 96ms/step - loss: 11.5972 - mae: 12.0887 - val_loss: 12.6893 - val_mae: 13.1812\n",
            "Epoch 10/100\n",
            "13/13 [==============================] - 1s 97ms/step - loss: 11.3677 - mae: 11.8589 - val_loss: 12.4525 - val_mae: 12.9443\n",
            "Epoch 11/100\n",
            "13/13 [==============================] - 1s 96ms/step - loss: 11.1455 - mae: 11.6365 - val_loss: 12.2194 - val_mae: 12.7110\n",
            "Epoch 12/100\n",
            "13/13 [==============================] - 1s 98ms/step - loss: 10.9294 - mae: 11.4201 - val_loss: 11.9944 - val_mae: 12.4858\n",
            "Epoch 13/100\n",
            "13/13 [==============================] - 1s 96ms/step - loss: 10.7240 - mae: 11.2146 - val_loss: 11.7698 - val_mae: 12.2611\n",
            "Epoch 14/100\n",
            "13/13 [==============================] - 1s 95ms/step - loss: 10.5239 - mae: 11.0145 - val_loss: 11.5525 - val_mae: 12.0439\n",
            "Epoch 15/100\n",
            "13/13 [==============================] - 1s 97ms/step - loss: 10.3328 - mae: 10.8231 - val_loss: 11.3394 - val_mae: 11.8309\n",
            "Epoch 16/100\n",
            "13/13 [==============================] - 1s 96ms/step - loss: 10.1487 - mae: 10.6388 - val_loss: 11.1305 - val_mae: 11.6220\n",
            "Epoch 17/100\n",
            "13/13 [==============================] - 1s 96ms/step - loss: 9.9711 - mae: 10.4609 - val_loss: 10.9322 - val_mae: 11.4234\n",
            "Epoch 18/100\n",
            "13/13 [==============================] - 1s 96ms/step - loss: 9.8049 - mae: 10.2946 - val_loss: 10.7390 - val_mae: 11.2295\n",
            "Epoch 19/100\n",
            "13/13 [==============================] - 1s 97ms/step - loss: 9.6483 - mae: 10.1379 - val_loss: 10.5515 - val_mae: 11.0414\n",
            "Epoch 20/100\n",
            "13/13 [==============================] - 1s 97ms/step - loss: 9.5004 - mae: 9.9899 - val_loss: 10.3762 - val_mae: 10.8658\n",
            "Epoch 21/100\n",
            "13/13 [==============================] - 1s 95ms/step - loss: 9.3627 - mae: 9.8521 - val_loss: 10.2090 - val_mae: 10.6987\n",
            "Epoch 22/100\n",
            "13/13 [==============================] - 1s 97ms/step - loss: 9.2361 - mae: 9.7254 - val_loss: 10.0524 - val_mae: 10.5419\n",
            "Epoch 23/100\n",
            "13/13 [==============================] - 1s 96ms/step - loss: 9.1194 - mae: 9.6085 - val_loss: 9.9031 - val_mae: 10.3923\n",
            "Epoch 24/100\n",
            "13/13 [==============================] - 1s 97ms/step - loss: 9.0118 - mae: 9.5009 - val_loss: 9.7615 - val_mae: 10.2500\n",
            "Epoch 25/100\n",
            "13/13 [==============================] - 1s 96ms/step - loss: 8.9133 - mae: 9.4024 - val_loss: 9.6351 - val_mae: 10.1231\n",
            "Epoch 26/100\n",
            "13/13 [==============================] - 1s 96ms/step - loss: 8.8231 - mae: 9.3122 - val_loss: 9.5190 - val_mae: 10.0070\n",
            "Epoch 27/100\n",
            "13/13 [==============================] - 1s 98ms/step - loss: 8.7424 - mae: 9.2311 - val_loss: 9.4073 - val_mae: 9.8954\n",
            "Epoch 28/100\n",
            "13/13 [==============================] - 1s 96ms/step - loss: 8.6667 - mae: 9.1553 - val_loss: 9.3101 - val_mae: 9.7987\n",
            "Epoch 29/100\n",
            "13/13 [==============================] - 1s 95ms/step - loss: 8.5996 - mae: 9.0881 - val_loss: 9.2215 - val_mae: 9.7100\n",
            "Epoch 30/100\n",
            "13/13 [==============================] - 1s 96ms/step - loss: 8.5380 - mae: 9.0266 - val_loss: 9.1361 - val_mae: 9.6243\n",
            "Epoch 31/100\n",
            "13/13 [==============================] - 1s 96ms/step - loss: 8.4831 - mae: 8.9718 - val_loss: 9.0566 - val_mae: 9.5448\n",
            "Epoch 32/100\n",
            "13/13 [==============================] - 1s 95ms/step - loss: 8.4333 - mae: 8.9219 - val_loss: 8.9860 - val_mae: 9.4743\n",
            "Epoch 33/100\n",
            "13/13 [==============================] - 1s 96ms/step - loss: 8.3877 - mae: 8.8762 - val_loss: 8.9228 - val_mae: 9.4113\n",
            "Epoch 34/100\n",
            "13/13 [==============================] - 1s 97ms/step - loss: 8.3465 - mae: 8.8350 - val_loss: 8.8699 - val_mae: 9.3586\n",
            "Epoch 35/100\n",
            "13/13 [==============================] - 1s 97ms/step - loss: 8.3092 - mae: 8.7978 - val_loss: 8.8128 - val_mae: 9.3013\n",
            "Epoch 36/100\n",
            "13/13 [==============================] - 1s 97ms/step - loss: 8.2754 - mae: 8.7640 - val_loss: 8.7629 - val_mae: 9.2514\n",
            "Epoch 37/100\n",
            "13/13 [==============================] - 1s 98ms/step - loss: 8.2437 - mae: 8.7323 - val_loss: 8.7164 - val_mae: 9.2048\n",
            "Epoch 38/100\n",
            "13/13 [==============================] - 1s 97ms/step - loss: 8.2156 - mae: 8.7042 - val_loss: 8.6743 - val_mae: 9.1627\n",
            "Epoch 39/100\n",
            "13/13 [==============================] - 1s 100ms/step - loss: 8.1895 - mae: 8.6781 - val_loss: 8.6354 - val_mae: 9.1237\n",
            "Epoch 40/100\n",
            "13/13 [==============================] - 1s 96ms/step - loss: 8.1657 - mae: 8.6542 - val_loss: 8.5999 - val_mae: 9.0882\n",
            "Epoch 41/100\n",
            "13/13 [==============================] - 1s 97ms/step - loss: 8.1434 - mae: 8.6318 - val_loss: 8.5652 - val_mae: 9.0535\n",
            "Epoch 42/100\n",
            "13/13 [==============================] - 1s 96ms/step - loss: 8.1231 - mae: 8.6115 - val_loss: 8.5326 - val_mae: 9.0211\n",
            "Epoch 43/100\n",
            "13/13 [==============================] - 1s 95ms/step - loss: 8.1041 - mae: 8.5925 - val_loss: 8.5048 - val_mae: 8.9936\n",
            "Epoch 44/100\n",
            "13/13 [==============================] - 1s 96ms/step - loss: 8.0867 - mae: 8.5751 - val_loss: 8.4806 - val_mae: 8.9697\n",
            "Epoch 45/100\n",
            "13/13 [==============================] - 1s 97ms/step - loss: 8.0705 - mae: 8.5589 - val_loss: 8.4526 - val_mae: 8.9418\n",
            "Epoch 46/100\n",
            "13/13 [==============================] - 1s 96ms/step - loss: 8.0548 - mae: 8.5433 - val_loss: 8.4314 - val_mae: 8.9209\n",
            "Epoch 47/100\n",
            "13/13 [==============================] - 1s 96ms/step - loss: 8.0405 - mae: 8.5290 - val_loss: 8.4095 - val_mae: 8.8989\n",
            "Epoch 48/100\n",
            "13/13 [==============================] - 1s 98ms/step - loss: 8.0270 - mae: 8.5156 - val_loss: 8.3864 - val_mae: 8.8758\n",
            "Epoch 49/100\n",
            "13/13 [==============================] - 1s 97ms/step - loss: 8.0139 - mae: 8.5025 - val_loss: 8.3669 - val_mae: 8.8562\n",
            "Epoch 50/100\n",
            "13/13 [==============================] - 1s 96ms/step - loss: 8.0020 - mae: 8.4906 - val_loss: 8.3479 - val_mae: 8.8370\n",
            "Epoch 51/100\n",
            "13/13 [==============================] - 1s 96ms/step - loss: 7.9901 - mae: 8.4787 - val_loss: 8.3310 - val_mae: 8.8201\n",
            "Epoch 52/100\n",
            "13/13 [==============================] - 1s 95ms/step - loss: 7.9790 - mae: 8.4677 - val_loss: 8.3135 - val_mae: 8.8025\n",
            "Epoch 53/100\n",
            "13/13 [==============================] - 1s 97ms/step - loss: 7.9683 - mae: 8.4569 - val_loss: 8.3018 - val_mae: 8.7907\n",
            "Epoch 54/100\n",
            "13/13 [==============================] - 1s 96ms/step - loss: 7.9579 - mae: 8.4466 - val_loss: 8.2853 - val_mae: 8.7742\n",
            "Epoch 55/100\n",
            "13/13 [==============================] - 1s 100ms/step - loss: 7.9479 - mae: 8.4366 - val_loss: 8.2738 - val_mae: 8.7626\n",
            "Epoch 56/100\n",
            "13/13 [==============================] - 1s 96ms/step - loss: 7.9382 - mae: 8.4269 - val_loss: 8.2576 - val_mae: 8.7463\n",
            "Epoch 57/100\n",
            "13/13 [==============================] - 1s 97ms/step - loss: 7.9287 - mae: 8.4174 - val_loss: 8.2425 - val_mae: 8.7312\n",
            "Epoch 58/100\n",
            "13/13 [==============================] - 1s 99ms/step - loss: 7.9198 - mae: 8.4085 - val_loss: 8.2245 - val_mae: 8.7131\n",
            "Epoch 59/100\n",
            "13/13 [==============================] - 1s 96ms/step - loss: 7.9107 - mae: 8.3994 - val_loss: 8.2135 - val_mae: 8.7021\n",
            "Epoch 60/100\n",
            "13/13 [==============================] - 1s 96ms/step - loss: 7.9023 - mae: 8.3910 - val_loss: 8.2004 - val_mae: 8.6890\n",
            "Epoch 61/100\n",
            "13/13 [==============================] - 1s 96ms/step - loss: 7.8936 - mae: 8.3824 - val_loss: 8.1872 - val_mae: 8.6758\n",
            "Epoch 62/100\n",
            "13/13 [==============================] - 1s 97ms/step - loss: 7.8854 - mae: 8.3742 - val_loss: 8.1787 - val_mae: 8.6674\n",
            "Epoch 63/100\n",
            "13/13 [==============================] - 1s 96ms/step - loss: 7.8776 - mae: 8.3664 - val_loss: 8.1629 - val_mae: 8.6517\n",
            "Epoch 64/100\n",
            "13/13 [==============================] - 1s 97ms/step - loss: 7.8695 - mae: 8.3583 - val_loss: 8.1541 - val_mae: 8.6430\n",
            "Epoch 65/100\n",
            "13/13 [==============================] - 1s 97ms/step - loss: 7.8619 - mae: 8.3506 - val_loss: 8.1449 - val_mae: 8.6339\n",
            "Epoch 66/100\n",
            "13/13 [==============================] - 1s 97ms/step - loss: 7.8542 - mae: 8.3430 - val_loss: 8.1313 - val_mae: 8.6204\n",
            "Epoch 67/100\n",
            "13/13 [==============================] - 1s 98ms/step - loss: 7.8467 - mae: 8.3354 - val_loss: 8.1227 - val_mae: 8.6119\n",
            "Epoch 68/100\n",
            "13/13 [==============================] - 1s 96ms/step - loss: 7.8395 - mae: 8.3283 - val_loss: 8.1091 - val_mae: 8.5984\n",
            "Epoch 69/100\n",
            "13/13 [==============================] - 1s 96ms/step - loss: 7.8321 - mae: 8.3208 - val_loss: 8.1023 - val_mae: 8.5917\n",
            "Epoch 70/100\n",
            "13/13 [==============================] - 1s 96ms/step - loss: 7.8251 - mae: 8.3138 - val_loss: 8.0954 - val_mae: 8.5849\n",
            "Epoch 71/100\n",
            "13/13 [==============================] - 1s 98ms/step - loss: 7.8181 - mae: 8.3068 - val_loss: 8.0822 - val_mae: 8.5717\n",
            "Epoch 72/100\n",
            "13/13 [==============================] - 1s 97ms/step - loss: 7.8112 - mae: 8.2999 - val_loss: 8.0770 - val_mae: 8.5665\n",
            "Epoch 73/100\n",
            "13/13 [==============================] - 1s 98ms/step - loss: 7.8041 - mae: 8.2928 - val_loss: 8.0679 - val_mae: 8.5574\n",
            "Epoch 74/100\n",
            "13/13 [==============================] - 1s 98ms/step - loss: 7.7974 - mae: 8.2861 - val_loss: 8.0574 - val_mae: 8.5469\n",
            "Epoch 75/100\n",
            "13/13 [==============================] - 1s 96ms/step - loss: 7.7907 - mae: 8.2793 - val_loss: 8.0506 - val_mae: 8.5401\n",
            "Epoch 76/100\n",
            "13/13 [==============================] - 1s 97ms/step - loss: 7.7840 - mae: 8.2727 - val_loss: 8.0434 - val_mae: 8.5329\n",
            "Epoch 77/100\n",
            "13/13 [==============================] - 1s 98ms/step - loss: 7.7775 - mae: 8.2662 - val_loss: 8.0339 - val_mae: 8.5233\n",
            "Epoch 78/100\n",
            "13/13 [==============================] - 1s 97ms/step - loss: 7.7712 - mae: 8.2598 - val_loss: 8.0226 - val_mae: 8.5121\n",
            "Epoch 79/100\n",
            "13/13 [==============================] - 1s 96ms/step - loss: 7.7648 - mae: 8.2535 - val_loss: 8.0167 - val_mae: 8.5061\n",
            "Epoch 80/100\n",
            "13/13 [==============================] - 1s 96ms/step - loss: 7.7584 - mae: 8.2471 - val_loss: 8.0104 - val_mae: 8.4999\n",
            "Epoch 81/100\n",
            "13/13 [==============================] - 1s 97ms/step - loss: 7.7523 - mae: 8.2410 - val_loss: 7.9986 - val_mae: 8.4880\n",
            "Epoch 82/100\n",
            "13/13 [==============================] - 1s 99ms/step - loss: 7.7460 - mae: 8.2347 - val_loss: 7.9883 - val_mae: 8.4777\n",
            "Epoch 83/100\n",
            "13/13 [==============================] - 1s 97ms/step - loss: 7.7399 - mae: 8.2286 - val_loss: 7.9854 - val_mae: 8.4746\n",
            "Epoch 84/100\n",
            "13/13 [==============================] - 1s 96ms/step - loss: 7.7339 - mae: 8.2226 - val_loss: 7.9806 - val_mae: 8.4698\n",
            "Epoch 85/100\n",
            "13/13 [==============================] - 1s 98ms/step - loss: 7.7277 - mae: 8.2164 - val_loss: 7.9722 - val_mae: 8.4613\n",
            "Epoch 86/100\n",
            "13/13 [==============================] - 1s 96ms/step - loss: 7.7218 - mae: 8.2105 - val_loss: 7.9654 - val_mae: 8.4545\n",
            "Epoch 87/100\n",
            "13/13 [==============================] - 1s 97ms/step - loss: 7.7160 - mae: 8.2046 - val_loss: 7.9588 - val_mae: 8.4479\n",
            "Epoch 88/100\n",
            "13/13 [==============================] - 1s 97ms/step - loss: 7.7105 - mae: 8.1991 - val_loss: 7.9562 - val_mae: 8.4452\n",
            "Epoch 89/100\n",
            "13/13 [==============================] - 1s 97ms/step - loss: 7.7044 - mae: 8.1930 - val_loss: 7.9425 - val_mae: 8.4314\n",
            "Epoch 90/100\n",
            "13/13 [==============================] - 1s 98ms/step - loss: 7.6988 - mae: 8.1874 - val_loss: 7.9349 - val_mae: 8.4238\n",
            "Epoch 91/100\n",
            "13/13 [==============================] - 1s 97ms/step - loss: 7.6929 - mae: 8.1815 - val_loss: 7.9279 - val_mae: 8.4167\n",
            "Epoch 92/100\n",
            "13/13 [==============================] - 1s 97ms/step - loss: 7.6873 - mae: 8.1759 - val_loss: 7.9213 - val_mae: 8.4101\n",
            "Epoch 93/100\n",
            "13/13 [==============================] - 1s 95ms/step - loss: 7.6819 - mae: 8.1705 - val_loss: 7.9147 - val_mae: 8.4034\n",
            "Epoch 94/100\n",
            "13/13 [==============================] - 1s 98ms/step - loss: 7.6764 - mae: 8.1649 - val_loss: 7.9110 - val_mae: 8.3997\n",
            "Epoch 95/100\n",
            "13/13 [==============================] - 1s 98ms/step - loss: 7.6709 - mae: 8.1595 - val_loss: 7.9062 - val_mae: 8.3948\n",
            "Epoch 96/100\n",
            "13/13 [==============================] - 1s 98ms/step - loss: 7.6657 - mae: 8.1542 - val_loss: 7.9033 - val_mae: 8.3919\n",
            "Epoch 97/100\n",
            "13/13 [==============================] - 1s 98ms/step - loss: 7.6604 - mae: 8.1489 - val_loss: 7.8892 - val_mae: 8.3778\n",
            "Epoch 98/100\n",
            "13/13 [==============================] - 1s 97ms/step - loss: 7.6549 - mae: 8.1434 - val_loss: 7.8863 - val_mae: 8.3748\n",
            "Epoch 99/100\n",
            "13/13 [==============================] - 1s 97ms/step - loss: 7.6495 - mae: 8.1380 - val_loss: 7.8790 - val_mae: 8.3674\n",
            "Epoch 100/100\n",
            "13/13 [==============================] - 1s 98ms/step - loss: 7.6443 - mae: 8.1328 - val_loss: 7.8719 - val_mae: 8.3603\n"
          ],
          "name": "stdout"
        }
      ]
    },
    {
      "cell_type": "markdown",
      "metadata": {
        "id": "kiUQTeTTXSVv"
      },
      "source": [
        "## Plotting"
      ]
    },
    {
      "cell_type": "code",
      "metadata": {
        "colab": {
          "base_uri": "https://localhost:8080/",
          "height": 295
        },
        "id": "JVGGbgmtW2SX",
        "outputId": "b5226628-797e-4e0a-e9a3-c3f6e5140a86"
      },
      "source": [
        "plt.plot(history.history['mae'])\n",
        "plt.plot(history.history['val_mae'])\n",
        "plt.title('MAE')\n",
        "plt.ylabel('mae')\n",
        "plt.xlabel('epoch')\n",
        "plt.legend(['train', 'test'], loc='upper left')\n",
        "plt.show()"
      ],
      "execution_count": 18,
      "outputs": [
        {
          "output_type": "display_data",
          "data": {
            "image/png": "[encoded data removed]",
            "text/plain": [
              "<Figure size 432x288 with 1 Axes>"
            ]
          },
          "metadata": {
            "tags": [],
            "needs_background": "light"
          }
        }
      ]
    },
    {
      "cell_type": "code",
      "metadata": {
        "colab": {
          "base_uri": "https://localhost:8080/",
          "height": 295
        },
        "id": "Fp7tvHE_XVCf",
        "outputId": "c6262a35-26ec-481c-c0a7-353ed6c64fbd"
      },
      "source": [
        "# plot of loss\n",
        "plt.plot(history.history['loss'])\n",
        "plt.plot(history.history['val_loss'])\n",
        "plt.title('Model Loss')\n",
        "plt.ylabel('loss')\n",
        "plt.xlabel('epoch')\n",
        "plt.legend(['train', 'test'], loc='upper left')\n",
        "plt.show()"
      ],
      "execution_count": 19,
      "outputs": [
        {
          "output_type": "display_data",
          "data": {
            "image/png": "[encoded data removed]",
            "text/plain": [
              "<Figure size 432x288 with 1 Axes>"
            ]
          },
          "metadata": {
            "tags": [],
            "needs_background": "light"
          }
        }
      ]
    }
  ]
}